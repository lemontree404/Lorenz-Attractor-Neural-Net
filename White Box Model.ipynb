{
 "cells": [
  {
   "cell_type": "code",
   "execution_count": null,
   "id": "1f2057f0",
   "metadata": {},
   "outputs": [],
   "source": [
    "import numpy as np,pandas as pd,matplotlib.pyplot as plt\n",
    "from numba import jit\n",
    "import warnings\n",
    "warnings.filterwarnings(\"ignore\")"
   ]
  },
  {
   "cell_type": "markdown",
   "id": "8207d7de",
   "metadata": {},
   "source": [
    "# Forward Propagation "
   ]
  },
  {
   "cell_type": "code",
   "execution_count": null,
   "id": "c23bcd37",
   "metadata": {},
   "outputs": [],
   "source": [
    "w1 = np.random.randint(1,100,(10,3))/100\n",
    "b1 = (np.random.randint(1,100,10)/100).reshape(10,1)\n",
    "\n",
    "w2 = np.random.randint(1,100,(10,10))/100\n",
    "b2 = (np.random.randint(1,100,10)/100).reshape(10,1)\n",
    "\n",
    "w3 = np.random.randint(1,100,(3,10))/100\n",
    "b3 = (np.random.randint(1,100,3)/100).reshape(3,1)\n",
    "      \n",
    "# w = np.array([w1,w2])\n",
    "# b = np.array([b1,b2])"
   ]
  },
  {
   "cell_type": "code",
   "execution_count": null,
   "id": "ecc3ca6f",
   "metadata": {},
   "outputs": [],
   "source": [
    "db = pd.read_csv(\"data\")\n",
    "db.drop(\"Unnamed: 0\", axis=1,inplace=True)\n",
    "x = np.array(db.iloc[:,:3])\n",
    "x = x.reshape(100000,3,1)"
   ]
  },
  {
   "cell_type": "code",
   "execution_count": null,
   "id": "d323661c",
   "metadata": {},
   "outputs": [],
   "source": [
    "def weighted_inputs(w,x,b):\n",
    "    z=[]\n",
    "    for i in x:\n",
    "        z += [np.dot(w,i) + b]\n",
    "    return np.array(z)"
   ]
  },
  {
   "cell_type": "code",
   "execution_count": null,
   "id": "b4214926",
   "metadata": {},
   "outputs": [],
   "source": [
    "def sigmoid(z1):\n",
    "    return 1/(1+np.exp(-z1))\n",
    "\n",
    "def sigmoid_(z1):\n",
    "    return sigmoid(z1)*(1-sigmoid(z1))\n",
    "\n",
    "def relu(z1):\n",
    "    return z1*(z1>=0)\n",
    "    \n",
    "def relu_(z1):\n",
    "    return 1*(z1>=0)\n",
    "\n",
    "def linear(z1):\n",
    "    return z1\n",
    "\n",
    "def linear_(z1):\n",
    "    return np.ones(z1.shape)"
   ]
  },
  {
   "cell_type": "code",
   "execution_count": null,
   "id": "61a2179b",
   "metadata": {},
   "outputs": [],
   "source": [
    "z1 = weighted_inputs(w1,x,b1)\n",
    "\n",
    "a1 = relu(z1)\n",
    "\n",
    "z2 = weighted_inputs(w2,a1,b2)\n",
    "\n",
    "a2 = relu(z2)\n",
    "\n",
    "z3 = weighted_inputs(w3,a2,b3)\n",
    "\n",
    "a3 = linear(z3)\n",
    "\n",
    "a0 = x"
   ]
  },
  {
   "cell_type": "code",
   "execution_count": null,
   "id": "c0c5fb69",
   "metadata": {},
   "outputs": [],
   "source": [
    "relu(np.array([-1,1,-2]))"
   ]
  },
  {
   "cell_type": "code",
   "execution_count": null,
   "id": "3e5078be",
   "metadata": {},
   "outputs": [],
   "source": [
    "a0.shape,relu_(z1).shape"
   ]
  },
  {
   "cell_type": "markdown",
   "id": "ec45618e",
   "metadata": {},
   "source": [
    "# Back Propagation "
   ]
  },
  {
   "cell_type": "code",
   "execution_count": null,
   "id": "5e99f67a",
   "metadata": {},
   "outputs": [],
   "source": [
    "target = np.array(db.iloc[:,-3:])\n",
    "target = target.reshape(100000,3,1)"
   ]
  },
  {
   "cell_type": "code",
   "execution_count": null,
   "id": "10101c0c",
   "metadata": {},
   "outputs": [],
   "source": [
    "def cost_fn(target,output):\n",
    "    return (1/(2*len(target)))*np.sum(np.square(np.linalg.norm(target-a3)))"
   ]
  },
  {
   "cell_type": "code",
   "execution_count": null,
   "id": "0797a1a9",
   "metadata": {},
   "outputs": [],
   "source": [
    "lr = 0.3"
   ]
  },
  {
   "cell_type": "code",
   "execution_count": null,
   "id": "8f2d3c54",
   "metadata": {},
   "outputs": [],
   "source": [
    "iterations = 50"
   ]
  },
  {
   "cell_type": "code",
   "execution_count": null,
   "id": "941026ff",
   "metadata": {
    "scrolled": true
   },
   "outputs": [],
   "source": [
    "costs=[]\n",
    "\n",
    "for epoch in range(iterations):\n",
    "    e3 = (a3 - target) * linear_(z3)\n",
    "\n",
    "    e2 = np.array([(w3.T @ e3[i]) for i in range(len(target))])\n",
    "    e2 = e2 * relu_(z2)\n",
    "    \n",
    "    e1 = np.array([(w2.T @ e2[i]) for i in range(len(target))])\n",
    "    e1 = e1 * relu_(z1)\n",
    "\n",
    "    del_w1 = np.array([np.dot(a0[i],e1[i].T).T for i in range(len(target))])\n",
    "    \n",
    "    del_w2 = np.array([np.dot(a1[i],e2[i].T).T for i in range(len(target))])\n",
    "    \n",
    "    del_w3 = np.array([np.dot(a2[i],e3[i].T).T for i in range(len(target))])\n",
    "    \n",
    "    del_b1 = e1\n",
    "\n",
    "    del_b2 = e2\n",
    "    \n",
    "    del_b3 = e3\n",
    "    \n",
    "    w1 = w1 - (lr/len(target)) * np.sum(del_w1,axis=0)\n",
    "                                        \n",
    "    w2 = w2 - (lr/len(target)) * np.sum(del_w2,axis=0)\n",
    "    \n",
    "    w3 = w3 - (lr/len(target)) * np.sum(del_w3,axis=0)\n",
    "\n",
    "    b1 = b1 - (lr/len(w1)) * np.sum(del_b1, axis = 0)\n",
    "\n",
    "    b2 = b2 - (lr/len(w2)) * np.sum(del_b2, axis = 0)\n",
    "    \n",
    "    b3 = b3 - (lr/len(w3)) * np.sum(del_b3, axis = 0)\n",
    "    \n",
    "    z1 = weighted_inputs(w1,x,b1)\n",
    "\n",
    "    a1 = relu(z1)\n",
    "\n",
    "    z2 = weighted_inputs(w2,a1,b2)\n",
    "\n",
    "    a2 = relu(z2)\n",
    "\n",
    "    z3 = weighted_inputs(w3,a2,b3)\n",
    "\n",
    "    a3 = linear(z3)\n",
    "    \n",
    "    costs+=[cost_fn(target,a3)]\n",
    "    print(\"Epoch {}\".format(epoch+1))\n",
    "    print(\"Cost: \",cost_fn(target,a3),end='\\n\\n')"
   ]
  },
  {
   "cell_type": "code",
   "execution_count": null,
   "id": "2de3bd30",
   "metadata": {},
   "outputs": [],
   "source": [
    "def predict(x,y,z):\n",
    "    x = np.array([x,y,z].reshape(3,1))\n",
    "    z1 = weighted_inputs(w1,x,b1)\n",
    "\n",
    "    a1 = relu(z1)\n",
    "\n",
    "    z2 = weighted_inputs(w2,a1,b2)\n",
    "\n",
    "    a2 = relu(z2)\n",
    "\n",
    "    z3 = weighted_inputs(w3,a2,b3)\n",
    "\n",
    "    a3 = linear(z3)\n",
    "    \n",
    "    return a3\n",
    "    \n",
    "\n",
    "def get_array(x,y,z,lx,ly,lz):\n",
    "    for i in range(iterations):\n",
    "        x,y,z = predict(x,y,z)\n",
    "        lx+=[x]\n",
    "        ly+=[y]\n",
    "        lz+=[z]\n",
    "        \n",
    "get_array(0.4,0.4,0.4,lx,ly,lz)"
   ]
  },
  {
   "cell_type": "code",
   "execution_count": null,
   "id": "8e87954b",
   "metadata": {},
   "outputs": [],
   "source": [
    "fig = plt.figure()\n",
    "ax = plt.axes(projection='3d')\n",
    "ax.plot(lx,ly,lz,lw=0.1)"
   ]
  },
  {
   "cell_type": "markdown",
   "id": "95b09f66",
   "metadata": {},
   "source": [
    "Model is able to reproduce an estimate of the Lorenz Attractor"
   ]
  }
 ],
 "metadata": {
  "kernelspec": {
   "display_name": "Python 3 (ipykernel)",
   "language": "python",
   "name": "python3"
  },
  "language_info": {
   "codemirror_mode": {
    "name": "ipython",
    "version": 3
   },
   "file_extension": ".py",
   "mimetype": "text/x-python",
   "name": "python",
   "nbconvert_exporter": "python",
   "pygments_lexer": "ipython3",
   "version": "3.10.7"
  }
 },
 "nbformat": 4,
 "nbformat_minor": 5
}
