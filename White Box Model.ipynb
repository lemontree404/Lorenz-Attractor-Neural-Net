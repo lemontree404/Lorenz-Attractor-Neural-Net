{
 "cells": [
  {
   "cell_type": "code",
   "execution_count": 1,
   "id": "54b5658f",
   "metadata": {},
   "outputs": [],
   "source": [
    "import pandas as pd\n",
    "import numpy as np\n",
    "\n",
    "db = pd.read_csv(\"data\")\n",
    "db.drop(\"Unnamed: 0\",axis=1,inplace=True)"
   ]
  },
  {
   "cell_type": "code",
   "execution_count": 2,
   "id": "ea50785f",
   "metadata": {},
   "outputs": [],
   "source": [
    "x = db.iloc[:,:3]\n",
    "x = np.array(x).T"
   ]
  },
  {
   "cell_type": "code",
   "execution_count": 3,
   "id": "cf4a7d9f",
   "metadata": {},
   "outputs": [],
   "source": [
    "y = db.iloc[:,-3:]\n",
    "y = np.array(y).T"
   ]
  },
  {
   "cell_type": "code",
   "execution_count": 4,
   "id": "a7bb42c6",
   "metadata": {},
   "outputs": [],
   "source": [
    "def relu(z):\n",
    "    return z*(z>=0)\n",
    "\n",
    "def linear(z):\n",
    "    return z\n",
    "\n",
    "def der_relu(z):\n",
    "    return 1*(z>=0)\n",
    "\n",
    "def der_linear(z):\n",
    "    return np.ones(z.shape)"
   ]
  },
  {
   "cell_type": "markdown",
   "id": "fc10af7a",
   "metadata": {},
   "source": [
    "## Layer 1 "
   ]
  },
  {
   "cell_type": "code",
   "execution_count": 5,
   "id": "e7393a22",
   "metadata": {},
   "outputs": [
    {
     "data": {
      "text/plain": [
       "(10, 100000)"
      ]
     },
     "execution_count": 5,
     "metadata": {},
     "output_type": "execute_result"
    }
   ],
   "source": [
    "w1 = np.random.randint(0,99,(10,3))/100\n",
    "# x = np.random.randint(0,99,(3,1))\n",
    "b1 = np.random.randint(0,99,(10,1))/100\n",
    "\n",
    "z1 = w1 @ x + b1\n",
    "a1 = relu(z1)\n",
    "a1.shape"
   ]
  },
  {
   "cell_type": "markdown",
   "id": "ccd5ddf0",
   "metadata": {},
   "source": [
    "## Layer 2 "
   ]
  },
  {
   "cell_type": "code",
   "execution_count": 6,
   "id": "6beedb08",
   "metadata": {},
   "outputs": [
    {
     "data": {
      "text/plain": [
       "(10, 100000)"
      ]
     },
     "execution_count": 6,
     "metadata": {},
     "output_type": "execute_result"
    }
   ],
   "source": [
    "w2 = np.random.randint(0,99,(10,10))/100\n",
    "b2 = np.random.randint(0,99,(10,1))/100\n",
    "\n",
    "z2 = w2 @ a1 + b2\n",
    "a2 = relu(z2)\n",
    "a2.shape"
   ]
  },
  {
   "cell_type": "markdown",
   "id": "978eec5e",
   "metadata": {},
   "source": [
    "## Layer 3 "
   ]
  },
  {
   "cell_type": "code",
   "execution_count": 7,
   "id": "14732fbd",
   "metadata": {},
   "outputs": [
    {
     "data": {
      "text/plain": [
       "(3, 100000)"
      ]
     },
     "execution_count": 7,
     "metadata": {},
     "output_type": "execute_result"
    }
   ],
   "source": [
    "w3 = np.random.randint(0,99,(3,10))/100\n",
    "b3 = np.random.randint(0,99,(3,1))/100\n",
    "\n",
    "z3 = w3 @ a2 + b3\n",
    "a3 = linear(z3)\n",
    "a3.shape"
   ]
  },
  {
   "cell_type": "markdown",
   "id": "ab830705",
   "metadata": {},
   "source": [
    "## Cost Function "
   ]
  },
  {
   "cell_type": "code",
   "execution_count": 8,
   "id": "718c3de3",
   "metadata": {},
   "outputs": [],
   "source": [
    "def cost_fn(y,a):\n",
    "    np.mean(np.square(a-y))"
   ]
  },
  {
   "cell_type": "markdown",
   "id": "e7560380",
   "metadata": {},
   "source": [
    "## Back Propagation"
   ]
  },
  {
   "cell_type": "code",
   "execution_count": 9,
   "id": "87c71d69",
   "metadata": {},
   "outputs": [],
   "source": [
    "lr = 0.05\n",
    "epochs = 100"
   ]
  },
  {
   "cell_type": "code",
   "execution_count": 10,
   "id": "4582934d",
   "metadata": {},
   "outputs": [
    {
     "data": {
      "text/plain": [
       "((3, 100000), (100000, 10))"
      ]
     },
     "execution_count": 10,
     "metadata": {},
     "output_type": "execute_result"
    }
   ],
   "source": [
    "((a3-y) * der_linear(z3)).shape,a2.T.shape"
   ]
  },
  {
   "cell_type": "code",
   "execution_count": 11,
   "id": "8530173b",
   "metadata": {},
   "outputs": [
    {
     "name": "stdout",
     "output_type": "stream",
     "text": [
      "Epoch 1: Cost:338.45419002360893\n",
      "Epoch 2: Cost:24.80374733125387\n",
      "Epoch 3: Cost:23.587070595732662\n",
      "Epoch 4: Cost:22.43880405738901\n",
      "Epoch 5: Cost:21.35644684892987\n",
      "Epoch 6: Cost:20.337366412097804\n",
      "Epoch 7: Cost:19.37890658642297\n",
      "Epoch 8: Cost:18.47856519133089\n",
      "Epoch 9: Cost:17.633671702746938\n",
      "Epoch 10: Cost:16.84188477330088\n",
      "Epoch 11: Cost:16.100693484679244\n",
      "Epoch 12: Cost:15.408259367049007\n",
      "Epoch 13: Cost:14.763466273369588\n",
      "Epoch 14: Cost:14.163953135547203\n",
      "Epoch 15: Cost:13.605809133592144\n",
      "Epoch 16: Cost:13.086418975446518\n",
      "Epoch 17: Cost:12.603470245240334\n",
      "Epoch 18: Cost:12.15601816027741\n",
      "Epoch 19: Cost:11.742247656037515\n",
      "Epoch 20: Cost:11.359262368049059\n",
      "Epoch 21: Cost:11.004652549152045\n",
      "Epoch 22: Cost:10.676712338367057\n",
      "Epoch 23: Cost:10.373485502784284\n",
      "Epoch 24: Cost:10.093137938312141\n",
      "Epoch 25: Cost:9.834086993402643\n",
      "Epoch 26: Cost:9.595327031836591\n",
      "Epoch 27: Cost:9.375569311090313\n",
      "Epoch 28: Cost:9.173587391043306\n",
      "Epoch 29: Cost:8.987946546537469\n",
      "Epoch 30: Cost:8.817415357979922\n",
      "Epoch 31: Cost:8.660740626267621\n",
      "Epoch 32: Cost:8.51689508752675\n",
      "Epoch 33: Cost:8.384794934245102\n",
      "Epoch 34: Cost:8.263599421423622\n",
      "Epoch 35: Cost:8.152569969105178\n",
      "Epoch 36: Cost:8.051030773024697\n",
      "Epoch 37: Cost:7.9581119243923695\n",
      "Epoch 38: Cost:7.87302872119781\n",
      "Epoch 39: Cost:7.795222866364664\n",
      "Epoch 40: Cost:7.724083664408017\n",
      "Epoch 41: Cost:7.659172894957443\n",
      "Epoch 42: Cost:7.5999280430195\n",
      "Epoch 43: Cost:7.545795330308403\n",
      "Epoch 44: Cost:7.496296755583335\n",
      "Epoch 45: Cost:7.451044736701323\n",
      "Epoch 46: Cost:7.409665854740766\n",
      "Epoch 47: Cost:7.371823943998686\n",
      "Epoch 48: Cost:7.337188930934165\n",
      "Epoch 49: Cost:7.305537208390857\n",
      "Epoch 50: Cost:7.276555994339886\n",
      "Epoch 51: Cost:7.25002684953338\n",
      "Epoch 52: Cost:7.225789144993903\n",
      "Epoch 53: Cost:7.203635479328947\n",
      "Epoch 54: Cost:7.183352294088337\n",
      "Epoch 55: Cost:7.164806812400958\n",
      "Epoch 56: Cost:7.147830845193633\n",
      "Epoch 57: Cost:7.132306068476029\n",
      "Epoch 58: Cost:7.118067914644093\n",
      "Epoch 59: Cost:7.105035653225478\n",
      "Epoch 60: Cost:7.09311909729898\n",
      "Epoch 61: Cost:7.0821988890895415\n",
      "Epoch 62: Cost:7.072195165857533\n",
      "Epoch 63: Cost:7.0630363524470505\n",
      "Epoch 64: Cost:7.054636661436233\n",
      "Epoch 65: Cost:7.046931018919066\n",
      "Epoch 66: Cost:7.039879463814215\n",
      "Epoch 67: Cost:7.033410019807951\n",
      "Epoch 68: Cost:7.027473562592593\n",
      "Epoch 69: Cost:7.022025876231079\n",
      "Epoch 70: Cost:7.017024495250886\n",
      "Epoch 71: Cost:7.012424855069035\n",
      "Epoch 72: Cost:7.008187384556434\n",
      "Epoch 73: Cost:7.004292128585133\n",
      "Epoch 74: Cost:7.000702689857169\n",
      "Epoch 75: Cost:6.997395782426913\n",
      "Epoch 76: Cost:6.9943443355175265\n",
      "Epoch 77: Cost:6.991530123477581\n",
      "Epoch 78: Cost:6.988927027253574\n",
      "Epoch 79: Cost:6.986520385435749\n",
      "Epoch 80: Cost:6.984293725866041\n",
      "Epoch 81: Cost:6.982237063546119\n",
      "Epoch 82: Cost:6.980339674655298\n",
      "Epoch 83: Cost:6.978584319666483\n",
      "Epoch 84: Cost:6.9769585411628805\n",
      "Epoch 85: Cost:6.975450549331559\n",
      "Epoch 86: Cost:6.9740484728242755\n",
      "Epoch 87: Cost:6.972747872620683\n",
      "Epoch 88: Cost:6.971541324974249\n",
      "Epoch 89: Cost:6.970422307431361\n",
      "Epoch 90: Cost:6.969382001505288\n",
      "Epoch 91: Cost:6.968415092209363\n",
      "Epoch 92: Cost:6.967515938704435\n",
      "Epoch 93: Cost:6.966678617897771\n",
      "Epoch 94: Cost:6.965899492318452\n",
      "Epoch 95: Cost:6.965173923188685\n",
      "Epoch 96: Cost:6.964496461363724\n",
      "Epoch 97: Cost:6.963863149343405\n",
      "Epoch 98: Cost:6.963272332949352\n",
      "Epoch 99: Cost:6.96272193193697\n",
      "Epoch 100: Cost:6.962207419952699\n"
     ]
    }
   ],
   "source": [
    "costs=[]\n",
    "\n",
    "for epoch in range(epochs):\n",
    "    \n",
    "    print(\"Epoch {}: Cost:{}\".format(epoch+1,np.mean(np.abs(a3-y))))\n",
    "    costs += [np.mean(np.abs(a3-y))]\n",
    "    \n",
    "    e3 = (a3-y) * der_linear(z3)\n",
    "    dw3 = e3 @ a2.T\n",
    "    \n",
    "    e2 = (w3.T @ e3) * der_relu(z2)\n",
    "    dw2 = e2 @ a1.T\n",
    "\n",
    "    e1 = (w2.T @ e2) * der_relu(z1)\n",
    "    dw1 = e1 @ x.T\n",
    "\n",
    "\n",
    "    w1 = w1 - (lr/(100000)) * dw1\n",
    "    w2 = w2 - (lr/(100000)) * dw2\n",
    "    w3 = w3 - (lr/(100000)) * dw3\n",
    "\n",
    "    b1 = b1 - (lr/(100000)) * np.sum(e1,axis=1).reshape(10,1)\n",
    "    b2 = b2 - (lr/(100000)) * np.sum(e2,axis=1).reshape(10,1)\n",
    "    b3 = b3 - (lr/(100000)) * np.sum(e3,axis=1).reshape(3,1)\n",
    "    \n",
    "    z1 = w1 @ x + b1\n",
    "    a1 = relu(z1)\n",
    "\n",
    "    z2 = w2 @ a1 + b2\n",
    "    a2 = relu(z2)\n",
    "    \n",
    "    z3 = w3 @ a2 + b3\n",
    "    a3 = linear(z3)"
   ]
  },
  {
   "cell_type": "markdown",
   "id": "0fb6ac0b",
   "metadata": {},
   "source": [
    "## Cost Function through the epochs "
   ]
  },
  {
   "cell_type": "code",
   "execution_count": 12,
   "id": "f4feb9e8",
   "metadata": {},
   "outputs": [
    {
     "data": {
      "text/plain": [
       "[<matplotlib.lines.Line2D at 0x27c0210d1e0>]"
      ]
     },
     "execution_count": 12,
     "metadata": {},
     "output_type": "execute_result"
    },
    {
     "data": {
      "image/png": "[encoded data removed]",
      "text/plain": [
       "<Figure size 640x480 with 1 Axes>"
      ]
     },
     "metadata": {},
     "output_type": "display_data"
    }
   ],
   "source": [
    "import matplotlib.pyplot as plt\n",
    "\n",
    "plt.plot(np.arange(len(costs)),costs)"
   ]
  },
  {
   "cell_type": "code",
   "execution_count": 13,
   "id": "e3619d57",
   "metadata": {},
   "outputs": [],
   "source": [
    "def predict(x,y,z):\n",
    "    \n",
    "    x = np.array([x,y,z]).reshape(3,1)\n",
    "    \n",
    "    z1 = w1 @ x + b1\n",
    "    a1 = relu(z1)\n",
    "\n",
    "    z2 = w2 @ a1 + b2\n",
    "    a2 = relu(z2)\n",
    "    \n",
    "    z3 = w3 @ a2 + b3\n",
    "    a3 = linear(z3)\n",
    "    \n",
    "    return a3\n",
    "\n",
    "lx=[]\n",
    "ly=[]\n",
    "lz=[]\n",
    "\n",
    "def get_array(lx,ly,lz,x=0.4,y=0.4,z=0.4,iterations=10000):\n",
    "    for i in range(iterations):\n",
    "        x,y,z = predict(x,y,z)\n",
    "        lx+=[x]\n",
    "        ly+=[y]\n",
    "        lz+=[z]\n",
    "        \n",
    "get_array(lx,ly,lz)"
   ]
  },
  {
   "cell_type": "code",
   "execution_count": 14,
   "id": "c5fb16f0",
   "metadata": {},
   "outputs": [
    {
     "data": {
      "text/plain": [
       "[<mpl_toolkits.mplot3d.art3d.Line3D at 0x27c035cb4f0>]"
      ]
     },
     "execution_count": 14,
     "metadata": {},
     "output_type": "execute_result"
    },
    {
     "data": {
      "image/png": "[encoded data removed]",
      "text/plain": [
       "<Figure size 640x480 with 1 Axes>"
      ]
     },
     "metadata": {},
     "output_type": "display_data"
    }
   ],
   "source": [
    "import matplotlib.pyplot as plt\n",
    "from mpl_toolkits import mplot3d\n",
    "%matplotlib inline\n",
    "\n",
    "fig = plt.figure()\n",
    "ax = plt.axes(projection='3d')\n",
    "ax.plot(np.array(lx).reshape(1,-1)[0],np.array(ly).reshape(1,-1)[0],np.array(lz).reshape(1,-1)[0],'o')"
   ]
  },
  {
   "cell_type": "markdown",
   "id": "ad8d51b0",
   "metadata": {},
   "source": [
    "Sadly even though the model seems to be learning and reducing the cost through back propagation, the information and pattern it seems to infer and learn from the dataset is wrong"
   ]
  }
 ],
 "metadata": {
  "kernelspec": {
   "display_name": "Python 3 (ipykernel)",
   "language": "python",
   "name": "python3"
  },
  "language_info": {
   "codemirror_mode": {
    "name": "ipython",
    "version": 3
   },
   "file_extension": ".py",
   "mimetype": "text/x-python",
   "name": "python",
   "nbconvert_exporter": "python",
   "pygments_lexer": "ipython3",
   "version": "3.10.7"
  }
 },
 "nbformat": 4,
 "nbformat_minor": 5
}
